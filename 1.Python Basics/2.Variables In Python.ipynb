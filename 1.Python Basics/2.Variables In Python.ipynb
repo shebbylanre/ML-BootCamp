{
 "cells": [
  {
   "cell_type": "code",
   "execution_count": null,
   "id": "5a888b7c",
   "metadata": {},
   "outputs": [
    {
     "name": "stdout",
     "output_type": "stream",
     "text": [
      "Age : 49\n",
      "height : 6.1\n",
      "name : Krishna\n"
     ]
    }
   ],
   "source": [
    "# Declaring and assigning variables \n",
    "age = 49 \n",
    "height = 6.1\n",
    "name = \"Krishna\"\n",
    "is_student =True\n",
    "\n",
    "# printing the variable \n",
    "print(\"Age :\",age)\n",
    "print(\"height :\",height)\n",
    "print(\"name :\",name)"
   ]
  },
  {
   "cell_type": "code",
   "execution_count": 4,
   "id": "268e4b94",
   "metadata": {},
   "outputs": [],
   "source": [
    "## Naming Convention \n",
    "# 1. must always start with a letther or an _underscore\n",
    "# 2. can contain letters or number or _ \n",
    "# 3. variable are case sensitive \n",
    "# 4. must be descriptive \n",
    "\n",
    "# valid variable\n",
    "firts_name = \"Faisudeen\"\n",
    "last_name = \"Sebiotimo\"\n",
    "\n",
    "# Invalid variable \n",
    "# 2age = 12 \n",
    "# first-name= \"ShebbyLee\" hyphen not accepted \n"
   ]
  },
  {
   "cell_type": "code",
   "execution_count": 6,
   "id": "7c93ac8d",
   "metadata": {},
   "outputs": [
    {
     "data": {
      "text/plain": [
       "False"
      ]
     },
     "execution_count": 6,
     "metadata": {},
     "output_type": "execute_result"
    }
   ],
   "source": [
    "# Variables are case sensitive \n",
    "name = \"Lanre\"\n",
    "Name = \"Faisu\"\n",
    "name == Name  ## False "
   ]
  },
  {
   "cell_type": "code",
   "execution_count": 4,
   "id": "81becdff",
   "metadata": {},
   "outputs": [
    {
     "name": "stdout",
     "output_type": "stream",
     "text": [
      "<class 'int'>\n"
     ]
    }
   ],
   "source": [
    "## Understanding Python variable \n",
    "# 1. pythom is dynamicallt typed, the type of variables is determined at runtime\n",
    "age = 25  # int\n",
    "height = 6.1  # float\n",
    "name = \"Shebby\" # string\n",
    "is_student = True #boolean\n",
    "\n",
    "print(type(age))"
   ]
  },
  {
   "cell_type": "code",
   "execution_count": 14,
   "id": "dc88d5ae",
   "metadata": {},
   "outputs": [
    {
     "name": "stdout",
     "output_type": "stream",
     "text": [
      "<class 'int'>\n",
      "<class 'str'>\n",
      "25\n"
     ]
    }
   ],
   "source": [
    "# Type Checking and Conversion\n",
    "\n",
    "type(height)\n",
    "type(name)\n",
    "\n",
    "age = 25 \n",
    "age_str = str(age)\n",
    "print(type(age))\n",
    "print(type(age_str))\n",
    "print(age_str)"
   ]
  },
  {
   "cell_type": "code",
   "execution_count": 19,
   "id": "8cb3334e",
   "metadata": {},
   "outputs": [
    {
     "name": "stdout",
     "output_type": "stream",
     "text": [
      "<class 'float'>\n",
      "<class 'int'>\n",
      "<class 'float'>\n"
     ]
    }
   ],
   "source": [
    "# Type casting cont\n",
    "\n",
    "height = 6.0\n",
    "\n",
    "print(type(height))\n",
    "print(type(int(height)))\n",
    "print(type(height))"
   ]
  },
  {
   "cell_type": "code",
   "execution_count": 22,
   "id": "a32c7bc3",
   "metadata": {},
   "outputs": [
    {
     "name": "stdout",
     "output_type": "stream",
     "text": [
      "10 <class 'int'>\n",
      "faisu <class 'str'>\n",
      "True <class 'bool'>\n"
     ]
    }
   ],
   "source": [
    "# Dynamic Typing \n",
    "# python allows the type to change as the program executes \n",
    "var = 10  #int\n",
    "print(var,type(var))\n",
    "\n",
    "var = \"faisu\"\n",
    "print(var,type(var))\n",
    "\n",
    "var = True \n",
    "print(var,type(var))\n",
    "\n"
   ]
  },
  {
   "cell_type": "code",
   "execution_count": 26,
   "id": "2b260383",
   "metadata": {},
   "outputs": [
    {
     "name": "stdout",
     "output_type": "stream",
     "text": [
      "34 <class 'int'>\n"
     ]
    }
   ],
   "source": [
    "# input\n",
    "age = int(input(\"What is My Age\"))\n",
    "print(age,type(age))"
   ]
  },
  {
   "cell_type": "code",
   "execution_count": null,
   "id": "adf491f3",
   "metadata": {},
   "outputs": [
    {
     "name": "stdout",
     "output_type": "stream",
     "text": [
      "First Number 206.9\n",
      "Second Number 214.9\n",
      "---------------------------------------------------------------------------------------------------\n",
      "Sum 421.8\n",
      "difference -8.0\n",
      "product 44462.810000000005\n",
      "quotient 0.96\n"
     ]
    }
   ],
   "source": [
    "## simple calculator \n",
    "\n",
    "numb1 = float(input(\"Enter Your First Number\"))\n",
    "numb2 = float(input(\"Enter Your Second Number\"))\n",
    "\n",
    "sum = numb1 + numb2\n",
    "difference = numb1 - numb2\n",
    "product = numb1 * numb2\n",
    "quotient = round(numb1/numb2,2)\n",
    "gap = \"---------------------------------------\"\n",
    "\n",
    "print(\"First Number\", numb1)\n",
    "print(\"Second Number\", numb2)\n",
    "print(gap)\n",
    "\n",
    "print(\"Sum\",sum)\n",
    "print(\"difference\",difference)\n",
    "print(\"product\",product)\n",
    "print(\"quotient\",quotient)"
   ]
  }
 ],
 "metadata": {
  "kernelspec": {
   "display_name": "display_name_in_kernal_list",
   "language": "python",
   "name": "your_venv_name"
  },
  "language_info": {
   "codemirror_mode": {
    "name": "ipython",
    "version": 3
   },
   "file_extension": ".py",
   "mimetype": "text/x-python",
   "name": "python",
   "nbconvert_exporter": "python",
   "pygments_lexer": "ipython3",
   "version": "3.13.3"
  }
 },
 "nbformat": 4,
 "nbformat_minor": 5
}
