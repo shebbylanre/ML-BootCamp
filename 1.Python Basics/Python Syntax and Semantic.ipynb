{
 "cells": [
  {
   "cell_type": "code",
   "execution_count": 20,
   "id": "f299306c",
   "metadata": {},
   "outputs": [
    {
     "name": "stdout",
     "output_type": "stream",
     "text": [
      "Shebby\n",
      "Krishi\n"
     ]
    }
   ],
   "source": [
    "'''\n",
    "welcome to the Python \n",
    "course Multi iine \n",
    "'''\n",
    "# Single Line comment \n",
    "# Python is case sensitive \n",
    "Name = \"Shebby\"\n",
    "name = \"Krishi\"\n",
    "print(Name)\n",
    "print(name)"
   ]
  },
  {
   "cell_type": "code",
   "execution_count": 21,
   "id": "827f9038",
   "metadata": {},
   "outputs": [
    {
     "name": "stdout",
     "output_type": "stream",
     "text": [
      "32\n",
      "32\n"
     ]
    }
   ],
   "source": [
    "# Indentation \n",
    "# use to define group of code block , structure or hierachy of a code 4 spaces\n",
    "age = 32\n",
    "if age > 31:\n",
    "        print(age)\n",
    "print(age)\n",
    "        \n",
    "\n",
    "\n"
   ]
  },
  {
   "cell_type": "code",
   "execution_count": 22,
   "id": "4c361593",
   "metadata": {},
   "outputs": [
    {
     "name": "stdout",
     "output_type": "stream",
     "text": [
      "96\n"
     ]
    }
   ],
   "source": [
    "# Line Continuation \n",
    "# use backslash \\ for line continuation\n",
    "\n",
    "total = 1+7+9 \\\n",
    "+5+9+11+12+\\\n",
    "8+13+12+9\n",
    "print(total)\n"
   ]
  },
  {
   "cell_type": "code",
   "execution_count": 23,
   "id": "d1ae9dc8",
   "metadata": {},
   "outputs": [
    {
     "name": "stdout",
     "output_type": "stream",
     "text": [
      "12\n"
     ]
    }
   ],
   "source": [
    "# multiple statement on a single line\n",
    "a=6;z=6;t=a+z\n",
    "print(t)"
   ]
  },
  {
   "cell_type": "code",
   "execution_count": 24,
   "id": "80037894",
   "metadata": {},
   "outputs": [
    {
     "name": "stdout",
     "output_type": "stream",
     "text": [
      "<class 'int'>\n",
      "<class 'str'>\n"
     ]
    }
   ],
   "source": [
    "# variable assignment\n",
    "age = 12 # infers integers\n",
    "lastname = \"Lanre\" # infers string \n",
    "print(type(age))\n",
    "print(type(lastname))"
   ]
  },
  {
   "cell_type": "code",
   "execution_count": 25,
   "id": "dcf57e18",
   "metadata": {},
   "outputs": [
    {
     "name": "stdout",
     "output_type": "stream",
     "text": [
      "<class 'int'>\n",
      "<class 'str'>\n"
     ]
    }
   ],
   "source": [
    "# type inference \n",
    "## during runtime the value of variable can change \n",
    "var = 10\n",
    "print(type(var)) \n",
    "var = \"Shebby\"\n",
    "type(var) \n",
    "print(type(var)) "
   ]
  },
  {
   "cell_type": "code",
   "execution_count": 26,
   "id": "1c74a7e2",
   "metadata": {},
   "outputs": [
    {
     "name": "stdout",
     "output_type": "stream",
     "text": [
      "Correct Indentation\n",
      "This will print\n",
      "Outside of the block\n"
     ]
    }
   ],
   "source": [
    "# indentation continues\n",
    "if True:\n",
    "    print(\"Correct Indentation\")\n",
    "    if False:\n",
    "        (\"This wont print\")\n",
    "    print(\"This will print\")\n",
    "print(\"Outside of the block\")\n",
    "    "
   ]
  }
 ],
 "metadata": {
  "kernelspec": {
   "display_name": "display_name_in_kernal_list",
   "language": "python",
   "name": "your_venv_name"
  },
  "language_info": {
   "codemirror_mode": {
    "name": "ipython",
    "version": 3
   },
   "file_extension": ".py",
   "mimetype": "text/x-python",
   "name": "python",
   "nbconvert_exporter": "python",
   "pygments_lexer": "ipython3",
   "version": "3.13.3"
  }
 },
 "nbformat": 4,
 "nbformat_minor": 5
}
